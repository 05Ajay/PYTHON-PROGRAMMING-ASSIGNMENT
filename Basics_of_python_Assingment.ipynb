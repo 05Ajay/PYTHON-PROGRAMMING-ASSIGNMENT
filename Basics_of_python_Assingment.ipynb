{
 "cells": [
  {
   "cell_type": "code",
   "execution_count": 3,
   "id": "2cb5c16a",
   "metadata": {},
   "outputs": [
    {
     "name": "stdout",
     "output_type": "stream",
     "text": [
      "Enter a number: 5\n",
      "5 is a prime number\n"
     ]
    }
   ],
   "source": [
    "# Exercise 1: Prime Numbers\n",
    "#Write a Python program that checks whether a given number is prime or not. \n",
    "#A prime number is a natural number greater than 1 that has no positive divisors other than 1 and itself.\n",
    "\n",
    "num = int(input(\"Enter a number: \"))\n",
    "\n",
    "if num <= 1:\n",
    "    print(num, \"is not a prime number\")\n",
    "else:\n",
    "    for i in range(2, int(num ** 0.5) + 1):\n",
    "        if num % i == 0:\n",
    "            print(num, \"is not a prime number\")\n",
    "            break\n",
    "    else:\n",
    "        print(num, \"is a prime number\")"
   ]
  },
  {
   "cell_type": "code",
   "execution_count": 9,
   "id": "f40e7fed",
   "metadata": {},
   "outputs": [
    {
     "name": "stdout",
     "output_type": "stream",
     "text": [
      "What is 9 x 2? 2\n",
      "Sorry, that's incorrect. The correct answer is 18\n"
     ]
    }
   ],
   "source": [
    "# Exercise 2: Product of Random Numbers\n",
    "#Develop a Python program that generates two random numbers and asks the user to enter the\n",
    "#product of these numbers. The program should then check if the user's answer is correct and\n",
    "#display an appropriate message.\n",
    "\n",
    "import random\n",
    "\n",
    "\n",
    "num1 = random.randint(1, 10)\n",
    "num2 = random.randint(1, 10)\n",
    "\n",
    "\n",
    "user_answer = int(input(f\"What is {num1} x {num2}? \"))\n",
    "\n",
    "\n",
    "if user_answer == num1 * num2:\n",
    "    print(\"Correct Answer!\", num1 * num2)\n",
    "else:\n",
    "    print(f\"Sorry, that's incorrect. The correct answer is {num1 * num2}\")"
   ]
  },
  {
   "cell_type": "code",
   "execution_count": 11,
   "id": "bb7a54a5",
   "metadata": {},
   "outputs": [
    {
     "name": "stdout",
     "output_type": "stream",
     "text": [
      "The square of 100 is 10000\n",
      "The square of 102 is 10404\n",
      "The square of 104 is 10816\n",
      "The square of 106 is 11236\n",
      "The square of 108 is 11664\n",
      "The square of 110 is 12100\n",
      "The square of 112 is 12544\n",
      "The square of 114 is 12996\n",
      "The square of 116 is 13456\n",
      "The square of 118 is 13924\n",
      "The square of 120 is 14400\n",
      "The square of 122 is 14884\n",
      "The square of 124 is 15376\n",
      "The square of 126 is 15876\n",
      "The square of 128 is 16384\n",
      "The square of 130 is 16900\n",
      "The square of 132 is 17424\n",
      "The square of 134 is 17956\n",
      "The square of 136 is 18496\n",
      "The square of 138 is 19044\n",
      "The square of 140 is 19600\n",
      "The square of 142 is 20164\n",
      "The square of 144 is 20736\n",
      "The square of 146 is 21316\n",
      "The square of 148 is 21904\n",
      "The square of 150 is 22500\n",
      "The square of 152 is 23104\n",
      "The square of 154 is 23716\n",
      "The square of 156 is 24336\n",
      "The square of 158 is 24964\n",
      "The square of 160 is 25600\n",
      "The square of 162 is 26244\n",
      "The square of 164 is 26896\n",
      "The square of 166 is 27556\n",
      "The square of 168 is 28224\n",
      "The square of 170 is 28900\n",
      "The square of 172 is 29584\n",
      "The square of 174 is 30276\n",
      "The square of 176 is 30976\n",
      "The square of 178 is 31684\n",
      "The square of 180 is 32400\n",
      "The square of 182 is 33124\n",
      "The square of 184 is 33856\n",
      "The square of 186 is 34596\n",
      "The square of 188 is 35344\n",
      "The square of 190 is 36100\n",
      "The square of 192 is 36864\n",
      "The square of 194 is 37636\n",
      "The square of 196 is 38416\n",
      "The square of 198 is 39204\n",
      "The square of 200 is 40000\n"
     ]
    }
   ],
   "source": [
    "# Exercise 3: Squares of Even/Odd Numbers\n",
    "#Create a Python script that prints the squares of all even or odd numbers within the range of 100\n",
    "#to 200. Choose either even or odd numbers and document your choice in the code.\n",
    "for num in range(100, 201):\n",
    "    if num % 2 == 0: \n",
    "        square = num ** 2\n",
    "        print(f\"The square of {num} is {square}\")"
   ]
  },
  {
   "cell_type": "code",
   "execution_count": 17,
   "id": "99060463",
   "metadata": {},
   "outputs": [
    {
     "name": "stdout",
     "output_type": "stream",
     "text": [
      "enter text:hey there how are you this this \n",
      "'hey': 1\n",
      "'there': 1\n",
      "'how': 1\n",
      "'are': 1\n",
      "'you': 1\n",
      "'this': 2\n"
     ]
    }
   ],
   "source": [
    "# Exercise 4: Word counter\n",
    "#write a program to count the number of words in a given text.\n",
    "import re\n",
    "from collections import Counter\n",
    "\n",
    "def count_words(input_text):\n",
    "    # Remove punctuation except for apostrophes (to handle contractions properly)\n",
    "    cleaned_text = re.sub(r'[^\\w\\s\\']', '', input_text)\n",
    "    # Split text into words and count occurrences\n",
    "    word_counts = Counter(cleaned_text.lower().split())\n",
    "    \n",
    "    # Print the word counts\n",
    "    for word, count in word_counts.items():\n",
    "        print(f\"'{word}': {count}\")\n",
    "\n",
    "# Example usage:\n",
    "input_text = input(\"enter text:\")\n",
    "count_words(input_text)\n"
   ]
  },
  {
   "cell_type": "code",
   "execution_count": 1,
   "id": "a8801ece",
   "metadata": {},
   "outputs": [
    {
     "name": "stdout",
     "output_type": "stream",
     "text": [
      "Enter a string: racecar\n",
      "True\n"
     ]
    }
   ],
   "source": [
    "# Exercise 5: Check for Palindrome\n",
    "#Write a Python function called is_palindrome that takes a string as input and returns True if\n",
    "#the string is a palindrome, and False otherwise. A palindrome is a word, phrase, number, or other\n",
    "#sequence of characters that reads the same forward and backward, ignoring spaces, punctuation, \n",
    "#and capitalization.\n",
    "s = input(\"Enter a string: \")\n",
    "s = s.replace(\" \", \"\").lower()\n",
    "print(s == s[::-1])"
   ]
  }
 ],
 "metadata": {
  "kernelspec": {
   "display_name": "Python 3 (ipykernel)",
   "language": "python",
   "name": "python3"
  },
  "language_info": {
   "codemirror_mode": {
    "name": "ipython",
    "version": 3
   },
   "file_extension": ".py",
   "mimetype": "text/x-python",
   "name": "python",
   "nbconvert_exporter": "python",
   "pygments_lexer": "ipython3",
   "version": "3.11.5"
  }
 },
 "nbformat": 4,
 "nbformat_minor": 5
}
